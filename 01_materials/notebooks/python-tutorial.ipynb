{
 "cells": [
  {
   "cell_type": "code",
   "execution_count": 44,
   "id": "b79e6ca0",
   "metadata": {},
   "outputs": [],
   "source": [
    "lst = [3,2,4]"
   ]
  },
  {
   "cell_type": "code",
   "execution_count": 51,
   "id": "960927fb",
   "metadata": {},
   "outputs": [],
   "source": [
    "def checksum(lst,sum):\n",
    "    d1={}\n",
    "    for index,item in enumerate(lst):\n",
    "       d1[item] = index\n",
    "    for key,val in d1.items():\n",
    "        print(key,'===========>',val)\n",
    "        counter = abs(sum -key)\n",
    "        print('counter is ',key,val,counter,d1.get(counter))\n",
    "        if (key+d1.get(counter) and d1.get(counter)!=key) ==sum:\n",
    "            print('Found',val,d1.get(sum-key))\n",
    "            return [val,d1.get(sum-key)]\n",
    "        else:\n",
    "            pass"
   ]
  },
  {
   "cell_type": "code",
   "execution_count": 50,
   "id": "88d4e64b",
   "metadata": {},
   "outputs": [
    {
     "name": "stdout",
     "output_type": "stream",
     "text": [
      "3 ===========> 0\n",
      "counter is  3 0 3 0\n",
      "2 ===========> 1\n",
      "counter is  2 1 4 2\n",
      "4 ===========> 2\n",
      "counter is  4 2 2 1\n"
     ]
    }
   ],
   "source": [
    "checksum([3,2,4],6)"
   ]
  },
  {
   "cell_type": "code",
   "execution_count": null,
   "id": "0091a695",
   "metadata": {},
   "outputs": [],
   "source": []
  }
 ],
 "metadata": {
  "kernelspec": {
   "display_name": "dsi_participant",
   "language": "python",
   "name": "python3"
  },
  "language_info": {
   "codemirror_mode": {
    "name": "ipython",
    "version": 3
   },
   "file_extension": ".py",
   "mimetype": "text/x-python",
   "name": "python",
   "nbconvert_exporter": "python",
   "pygments_lexer": "ipython3",
   "version": "3.9.15"
  }
 },
 "nbformat": 4,
 "nbformat_minor": 5
}
